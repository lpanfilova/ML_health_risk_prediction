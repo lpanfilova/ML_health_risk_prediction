{
 "cells": [
  {
   "cell_type": "markdown",
   "metadata": {
    "id": "_EBEI6YotjDq"
   },
   "source": [
    "# Estimation of obesity levels based on habits and physical condition"
   ]
  },
  {
   "cell_type": "code",
   "execution_count": 26,
   "metadata": {},
   "outputs": [],
   "source": [
    "import pandas as pd\n",
    "import numpy as np\n",
    "from sklearn.model_selection import train_test_split\n",
    "from sklearn.metrics import mean_absolute_error\n",
    "from sklearn.linear_model import LogisticRegression\n",
    "from sklearn.metrics import confusion_matrix\n",
    "from sklearn.metrics import classification_report\n",
    "from sklearn.preprocessing import LabelEncoder\n",
    "from sklearn.tree import DecisionTreeClassifier\n",
    "import matplotlib.pyplot as plt\n",
    "import seaborn as sns\n",
    "from sklearn.ensemble import RandomForestClassifier\n",
    "from sklearn.model_selection import cross_val_score\n",
    "from statistics import mean\n",
    "from sklearn.ensemble import VotingClassifier\n",
    "from sklearn.preprocessing import MinMaxScaler\n",
    "import warnings\n",
    "warnings.filterwarnings('ignore')"
   ]
  },
  {
   "cell_type": "code",
   "execution_count": 11,
   "metadata": {
    "colab": {
     "base_uri": "https://localhost:8080/",
     "height": 224
    },
    "id": "Ousa8PREk7li",
    "outputId": "e75e1ae8-aae5-47be-fe4b-66ca52014b17"
   },
   "outputs": [
    {
     "data": {
      "text/html": [
       "<div>\n",
       "<style scoped>\n",
       "    .dataframe tbody tr th:only-of-type {\n",
       "        vertical-align: middle;\n",
       "    }\n",
       "\n",
       "    .dataframe tbody tr th {\n",
       "        vertical-align: top;\n",
       "    }\n",
       "\n",
       "    .dataframe thead th {\n",
       "        text-align: right;\n",
       "    }\n",
       "</style>\n",
       "<table border=\"1\" class=\"dataframe\">\n",
       "  <thead>\n",
       "    <tr style=\"text-align: right;\">\n",
       "      <th></th>\n",
       "      <th>Gender</th>\n",
       "      <th>Age</th>\n",
       "      <th>Height</th>\n",
       "      <th>Weight</th>\n",
       "      <th>family_history_with_overweight</th>\n",
       "      <th>FAVC</th>\n",
       "      <th>FCVC</th>\n",
       "      <th>NCP</th>\n",
       "      <th>CAEC</th>\n",
       "      <th>SMOKE</th>\n",
       "      <th>CH2O</th>\n",
       "      <th>SCC</th>\n",
       "      <th>FAF</th>\n",
       "      <th>TUE</th>\n",
       "      <th>CALC</th>\n",
       "      <th>MTRANS</th>\n",
       "      <th>NObeyesdad</th>\n",
       "    </tr>\n",
       "  </thead>\n",
       "  <tbody>\n",
       "    <tr>\n",
       "      <th>1</th>\n",
       "      <td>Female</td>\n",
       "      <td>21.0</td>\n",
       "      <td>1.52</td>\n",
       "      <td>56.0</td>\n",
       "      <td>yes</td>\n",
       "      <td>no</td>\n",
       "      <td>3.0</td>\n",
       "      <td>3.0</td>\n",
       "      <td>Sometimes</td>\n",
       "      <td>yes</td>\n",
       "      <td>3.0</td>\n",
       "      <td>yes</td>\n",
       "      <td>3.0</td>\n",
       "      <td>0.0</td>\n",
       "      <td>Sometimes</td>\n",
       "      <td>Public_Transportation</td>\n",
       "      <td>Normal_Weight</td>\n",
       "    </tr>\n",
       "    <tr>\n",
       "      <th>2</th>\n",
       "      <td>Male</td>\n",
       "      <td>23.0</td>\n",
       "      <td>1.80</td>\n",
       "      <td>77.0</td>\n",
       "      <td>yes</td>\n",
       "      <td>no</td>\n",
       "      <td>2.0</td>\n",
       "      <td>3.0</td>\n",
       "      <td>Sometimes</td>\n",
       "      <td>no</td>\n",
       "      <td>2.0</td>\n",
       "      <td>no</td>\n",
       "      <td>2.0</td>\n",
       "      <td>1.0</td>\n",
       "      <td>Frequently</td>\n",
       "      <td>Public_Transportation</td>\n",
       "      <td>Normal_Weight</td>\n",
       "    </tr>\n",
       "    <tr>\n",
       "      <th>3</th>\n",
       "      <td>Male</td>\n",
       "      <td>27.0</td>\n",
       "      <td>1.80</td>\n",
       "      <td>87.0</td>\n",
       "      <td>no</td>\n",
       "      <td>no</td>\n",
       "      <td>3.0</td>\n",
       "      <td>3.0</td>\n",
       "      <td>Sometimes</td>\n",
       "      <td>no</td>\n",
       "      <td>2.0</td>\n",
       "      <td>no</td>\n",
       "      <td>2.0</td>\n",
       "      <td>0.0</td>\n",
       "      <td>Frequently</td>\n",
       "      <td>Walking</td>\n",
       "      <td>Overweight_Level_I</td>\n",
       "    </tr>\n",
       "    <tr>\n",
       "      <th>4</th>\n",
       "      <td>Male</td>\n",
       "      <td>22.0</td>\n",
       "      <td>1.78</td>\n",
       "      <td>89.8</td>\n",
       "      <td>no</td>\n",
       "      <td>no</td>\n",
       "      <td>2.0</td>\n",
       "      <td>1.0</td>\n",
       "      <td>Sometimes</td>\n",
       "      <td>no</td>\n",
       "      <td>2.0</td>\n",
       "      <td>no</td>\n",
       "      <td>0.0</td>\n",
       "      <td>0.0</td>\n",
       "      <td>Sometimes</td>\n",
       "      <td>Public_Transportation</td>\n",
       "      <td>Overweight_Level_II</td>\n",
       "    </tr>\n",
       "    <tr>\n",
       "      <th>5</th>\n",
       "      <td>Male</td>\n",
       "      <td>29.0</td>\n",
       "      <td>1.62</td>\n",
       "      <td>53.0</td>\n",
       "      <td>no</td>\n",
       "      <td>yes</td>\n",
       "      <td>2.0</td>\n",
       "      <td>3.0</td>\n",
       "      <td>Sometimes</td>\n",
       "      <td>no</td>\n",
       "      <td>2.0</td>\n",
       "      <td>no</td>\n",
       "      <td>0.0</td>\n",
       "      <td>0.0</td>\n",
       "      <td>Sometimes</td>\n",
       "      <td>Automobile</td>\n",
       "      <td>Normal_Weight</td>\n",
       "    </tr>\n",
       "  </tbody>\n",
       "</table>\n",
       "</div>"
      ],
      "text/plain": [
       "   Gender   Age  Height  Weight family_history_with_overweight FAVC  FCVC  \\\n",
       "1  Female  21.0    1.52    56.0                            yes   no   3.0   \n",
       "2    Male  23.0    1.80    77.0                            yes   no   2.0   \n",
       "3    Male  27.0    1.80    87.0                             no   no   3.0   \n",
       "4    Male  22.0    1.78    89.8                             no   no   2.0   \n",
       "5    Male  29.0    1.62    53.0                             no  yes   2.0   \n",
       "\n",
       "   NCP       CAEC SMOKE  CH2O  SCC  FAF  TUE        CALC  \\\n",
       "1  3.0  Sometimes   yes   3.0  yes  3.0  0.0   Sometimes   \n",
       "2  3.0  Sometimes    no   2.0   no  2.0  1.0  Frequently   \n",
       "3  3.0  Sometimes    no   2.0   no  2.0  0.0  Frequently   \n",
       "4  1.0  Sometimes    no   2.0   no  0.0  0.0   Sometimes   \n",
       "5  3.0  Sometimes    no   2.0   no  0.0  0.0   Sometimes   \n",
       "\n",
       "                  MTRANS           NObeyesdad  \n",
       "1  Public_Transportation        Normal_Weight  \n",
       "2  Public_Transportation        Normal_Weight  \n",
       "3                Walking   Overweight_Level_I  \n",
       "4  Public_Transportation  Overweight_Level_II  \n",
       "5             Automobile        Normal_Weight  "
      ]
     },
     "execution_count": 11,
     "metadata": {},
     "output_type": "execute_result"
    }
   ],
   "source": [
    "df = pd.read_excel('https://github.com/lpanfilova/ML_health_risk_prediction/raw/1f7cae84904f79a9acd090e44eaa8915c0866017/ObesityDataSet_raw_and_data_sinthetic.xlsx')\n",
    "\n",
    "# Drop the header row from data\n",
    "df = df.reindex(df.index.drop(0))\n",
    "df.head()"
   ]
  },
  {
   "cell_type": "markdown",
   "metadata": {
    "id": "DhLUN9o0UtrS"
   },
   "source": [
    "## Data Cleaning and preparation"
   ]
  },
  {
   "cell_type": "code",
   "execution_count": 12,
   "metadata": {
    "colab": {
     "base_uri": "https://localhost:8080/",
     "height": 425
    },
    "id": "CAx7Ggnrle5S",
    "outputId": "399798ef-6d29-4069-cef5-2ec7815d26af"
   },
   "outputs": [
    {
     "name": "stdout",
     "output_type": "stream",
     "text": [
      "<class 'pandas.core.frame.DataFrame'>\n",
      "Int64Index: 2110 entries, 1 to 2110\n",
      "Data columns (total 17 columns):\n",
      " #   Column                          Non-Null Count  Dtype  \n",
      "---  ------                          --------------  -----  \n",
      " 0   Gender                          2110 non-null   object \n",
      " 1   Age                             2110 non-null   float64\n",
      " 2   Height                          2110 non-null   float64\n",
      " 3   Weight                          2110 non-null   float64\n",
      " 4   family_history_with_overweight  2110 non-null   object \n",
      " 5   FAVC                            2110 non-null   object \n",
      " 6   FCVC                            2110 non-null   float64\n",
      " 7   NCP                             2110 non-null   float64\n",
      " 8   CAEC                            2110 non-null   object \n",
      " 9   SMOKE                           2110 non-null   object \n",
      " 10  CH2O                            2110 non-null   float64\n",
      " 11  SCC                             2110 non-null   object \n",
      " 12  FAF                             2110 non-null   float64\n",
      " 13  TUE                             2110 non-null   float64\n",
      " 14  CALC                            2110 non-null   object \n",
      " 15  MTRANS                          2110 non-null   object \n",
      " 16  NObeyesdad                      2110 non-null   object \n",
      "dtypes: float64(8), object(9)\n",
      "memory usage: 296.7+ KB\n"
     ]
    }
   ],
   "source": [
    "# Check null values and data types\n",
    "df.info()"
   ]
  },
  {
   "cell_type": "code",
   "execution_count": 13,
   "metadata": {
    "colab": {
     "base_uri": "https://localhost:8080/",
     "height": 193
    },
    "id": "IH5-Rp1NmA3m",
    "outputId": "2ff421c6-9eb4-4957-ae3d-9b6fb6580be4"
   },
   "outputs": [
    {
     "data": {
      "text/html": [
       "<div>\n",
       "<style scoped>\n",
       "    .dataframe tbody tr th:only-of-type {\n",
       "        vertical-align: middle;\n",
       "    }\n",
       "\n",
       "    .dataframe tbody tr th {\n",
       "        vertical-align: top;\n",
       "    }\n",
       "\n",
       "    .dataframe thead th {\n",
       "        text-align: right;\n",
       "    }\n",
       "</style>\n",
       "<table border=\"1\" class=\"dataframe\">\n",
       "  <thead>\n",
       "    <tr style=\"text-align: right;\">\n",
       "      <th></th>\n",
       "      <th>Age</th>\n",
       "      <th>Height</th>\n",
       "      <th>Weight</th>\n",
       "      <th>FCVC</th>\n",
       "      <th>NCP</th>\n",
       "      <th>CH2O</th>\n",
       "      <th>FAF</th>\n",
       "      <th>TUE</th>\n",
       "    </tr>\n",
       "  </thead>\n",
       "  <tbody>\n",
       "    <tr>\n",
       "      <th>count</th>\n",
       "      <td>2110.000000</td>\n",
       "      <td>2110.000000</td>\n",
       "      <td>2110.000000</td>\n",
       "      <td>2110.000000</td>\n",
       "      <td>2110.000000</td>\n",
       "      <td>2110.000000</td>\n",
       "      <td>2110.000000</td>\n",
       "      <td>2110.000000</td>\n",
       "    </tr>\n",
       "    <tr>\n",
       "      <th>mean</th>\n",
       "      <td>24.314170</td>\n",
       "      <td>1.701716</td>\n",
       "      <td>86.596762</td>\n",
       "      <td>2.419242</td>\n",
       "      <td>2.685479</td>\n",
       "      <td>2.008015</td>\n",
       "      <td>1.010777</td>\n",
       "      <td>0.657704</td>\n",
       "    </tr>\n",
       "    <tr>\n",
       "      <th>std</th>\n",
       "      <td>6.347063</td>\n",
       "      <td>0.093310</td>\n",
       "      <td>26.192761</td>\n",
       "      <td>0.533975</td>\n",
       "      <td>0.778193</td>\n",
       "      <td>0.613099</td>\n",
       "      <td>0.850509</td>\n",
       "      <td>0.609026</td>\n",
       "    </tr>\n",
       "    <tr>\n",
       "      <th>min</th>\n",
       "      <td>14.000000</td>\n",
       "      <td>1.450000</td>\n",
       "      <td>39.000000</td>\n",
       "      <td>1.000000</td>\n",
       "      <td>1.000000</td>\n",
       "      <td>1.000000</td>\n",
       "      <td>0.000000</td>\n",
       "      <td>0.000000</td>\n",
       "    </tr>\n",
       "    <tr>\n",
       "      <th>25%</th>\n",
       "      <td>19.946718</td>\n",
       "      <td>1.630000</td>\n",
       "      <td>65.620230</td>\n",
       "      <td>2.000000</td>\n",
       "      <td>2.658689</td>\n",
       "      <td>1.582010</td>\n",
       "      <td>0.127654</td>\n",
       "      <td>0.000000</td>\n",
       "    </tr>\n",
       "    <tr>\n",
       "      <th>50%</th>\n",
       "      <td>22.783646</td>\n",
       "      <td>1.700563</td>\n",
       "      <td>83.000000</td>\n",
       "      <td>2.386464</td>\n",
       "      <td>3.000000</td>\n",
       "      <td>2.000000</td>\n",
       "      <td>1.000000</td>\n",
       "      <td>0.625350</td>\n",
       "    </tr>\n",
       "    <tr>\n",
       "      <th>75%</th>\n",
       "      <td>26.000000</td>\n",
       "      <td>1.768479</td>\n",
       "      <td>107.456672</td>\n",
       "      <td>3.000000</td>\n",
       "      <td>3.000000</td>\n",
       "      <td>2.478129</td>\n",
       "      <td>1.666821</td>\n",
       "      <td>1.000000</td>\n",
       "    </tr>\n",
       "    <tr>\n",
       "      <th>max</th>\n",
       "      <td>61.000000</td>\n",
       "      <td>1.980000</td>\n",
       "      <td>173.000000</td>\n",
       "      <td>3.000000</td>\n",
       "      <td>4.000000</td>\n",
       "      <td>3.000000</td>\n",
       "      <td>3.000000</td>\n",
       "      <td>2.000000</td>\n",
       "    </tr>\n",
       "  </tbody>\n",
       "</table>\n",
       "</div>"
      ],
      "text/plain": [
       "               Age       Height       Weight         FCVC          NCP  \\\n",
       "count  2110.000000  2110.000000  2110.000000  2110.000000  2110.000000   \n",
       "mean     24.314170     1.701716    86.596762     2.419242     2.685479   \n",
       "std       6.347063     0.093310    26.192761     0.533975     0.778193   \n",
       "min      14.000000     1.450000    39.000000     1.000000     1.000000   \n",
       "25%      19.946718     1.630000    65.620230     2.000000     2.658689   \n",
       "50%      22.783646     1.700563    83.000000     2.386464     3.000000   \n",
       "75%      26.000000     1.768479   107.456672     3.000000     3.000000   \n",
       "max      61.000000     1.980000   173.000000     3.000000     4.000000   \n",
       "\n",
       "              CH2O          FAF          TUE  \n",
       "count  2110.000000  2110.000000  2110.000000  \n",
       "mean      2.008015     1.010777     0.657704  \n",
       "std       0.613099     0.850509     0.609026  \n",
       "min       1.000000     0.000000     0.000000  \n",
       "25%       1.582010     0.127654     0.000000  \n",
       "50%       2.000000     1.000000     0.625350  \n",
       "75%       2.478129     1.666821     1.000000  \n",
       "max       3.000000     3.000000     2.000000  "
      ]
     },
     "execution_count": 13,
     "metadata": {},
     "output_type": "execute_result"
    }
   ],
   "source": [
    "df.describe()"
   ]
  },
  {
   "cell_type": "code",
   "execution_count": 14,
   "metadata": {
    "id": "DUTWlahAtgau"
   },
   "outputs": [],
   "source": [
    "# Change data types\n",
    "df['Age'] = df['Age'].astype(float).apply(np.floor).astype(int)\n",
    "df['Height'] = df['Height'].astype(float)\n",
    "df['Weight'] = df['Weight'].astype(float)\n",
    "\n",
    "# astype(object) here is for easy one-hot encoding in future \n",
    "df['FCVC'] = df['FCVC'].astype(float).apply(np.floor).astype(int).astype(object)\n",
    "df['NCP'] = df['NCP'].astype(float).apply(np.floor).astype(int).astype(object)\n",
    "df['CH2O'] = df['CH2O'].astype(float).apply(np.floor).astype(int).astype(object)\n",
    "df['FAF'] = df['FAF'].astype(float).apply(np.floor).astype(int).astype(object)\n",
    "df['TUE'] = df['TUE'].astype(float).apply(np.floor).astype(int).astype(object)"
   ]
  },
  {
   "cell_type": "code",
   "execution_count": 15,
   "metadata": {
    "colab": {
     "base_uri": "https://localhost:8080/",
     "height": 425
    },
    "id": "LCaEum7Hzxqt",
    "outputId": "688bc23d-dabf-4b4c-bd1e-59f10b4bf0e0"
   },
   "outputs": [
    {
     "name": "stdout",
     "output_type": "stream",
     "text": [
      "<class 'pandas.core.frame.DataFrame'>\n",
      "Int64Index: 2110 entries, 1 to 2110\n",
      "Data columns (total 17 columns):\n",
      " #   Column                          Non-Null Count  Dtype  \n",
      "---  ------                          --------------  -----  \n",
      " 0   Gender                          2110 non-null   object \n",
      " 1   Age                             2110 non-null   int32  \n",
      " 2   Height                          2110 non-null   float64\n",
      " 3   Weight                          2110 non-null   float64\n",
      " 4   family_history_with_overweight  2110 non-null   object \n",
      " 5   FAVC                            2110 non-null   object \n",
      " 6   FCVC                            2110 non-null   object \n",
      " 7   NCP                             2110 non-null   object \n",
      " 8   CAEC                            2110 non-null   object \n",
      " 9   SMOKE                           2110 non-null   object \n",
      " 10  CH2O                            2110 non-null   object \n",
      " 11  SCC                             2110 non-null   object \n",
      " 12  FAF                             2110 non-null   object \n",
      " 13  TUE                             2110 non-null   object \n",
      " 14  CALC                            2110 non-null   object \n",
      " 15  MTRANS                          2110 non-null   object \n",
      " 16  NObeyesdad                      2110 non-null   object \n",
      "dtypes: float64(2), int32(1), object(14)\n",
      "memory usage: 288.5+ KB\n"
     ]
    }
   ],
   "source": [
    "df.info()"
   ]
  },
  {
   "cell_type": "code",
   "execution_count": 16,
   "metadata": {
    "colab": {
     "base_uri": "https://localhost:8080/",
     "height": 289
    },
    "id": "nrwl8DNusytB",
    "outputId": "8740222e-758e-45c6-dc12-797cd2f199d0"
   },
   "outputs": [
    {
     "name": "stdout",
     "output_type": "stream",
     "text": [
      "['Female' 'Male']\n",
      "['yes' 'no']\n",
      "['no' 'yes']\n",
      "[3 2 1]\n",
      "[3 1 4 2]\n",
      "['Sometimes' 'Frequently' 'Always' 'no']\n",
      "['yes' 'no']\n",
      "[3 2 1]\n",
      "['yes' 'no']\n",
      "[3 2 0 1]\n",
      "[0 1 2]\n",
      "['Sometimes' 'Frequently' 'no' 'Always']\n",
      "['Public_Transportation' 'Walking' 'Automobile' 'Motorbike' 'Bike']\n",
      "['Normal_Weight' 'Overweight_Level_I' 'Overweight_Level_II'\n",
      " 'Obesity_Type_I' 'Insufficient_Weight' 'Obesity_Type_II'\n",
      " 'Obesity_Type_III']\n"
     ]
    }
   ],
   "source": [
    "# Values in columns Gender, family_history_with_overweight, FAVC, FCVC, NCP, CAEC, SMOKE, CH2O, SCC,\n",
    "# FAF, TUE, CALC, MTRANS should be categorical. Checking unique values:\n",
    "print(df['Gender'].unique())\n",
    "print(df['family_history_with_overweight'].unique())\n",
    "print(df['FAVC'].unique())\n",
    "print(df['FCVC'].unique())\n",
    "print(df['NCP'].unique())\n",
    "print(df['CAEC'].unique())\n",
    "print(df['SMOKE'].unique())\n",
    "print(df['CH2O'].unique())\n",
    "print(df['SCC'].unique())\n",
    "print(df['FAF'].unique())\n",
    "print(df['TUE'].unique())\n",
    "print(df['CALC'].unique())\n",
    "print(df['MTRANS'].unique())\n",
    "print(df['NObeyesdad'].unique())"
   ]
  },
  {
   "cell_type": "code",
   "execution_count": 17,
   "metadata": {
    "colab": {
     "base_uri": "https://localhost:8080/",
     "height": 224
    },
    "id": "ajluKun-UiYo",
    "outputId": "bab6ccad-d059-4564-f322-3d2c4386c54f"
   },
   "outputs": [
    {
     "data": {
      "text/html": [
       "<div>\n",
       "<style scoped>\n",
       "    .dataframe tbody tr th:only-of-type {\n",
       "        vertical-align: middle;\n",
       "    }\n",
       "\n",
       "    .dataframe tbody tr th {\n",
       "        vertical-align: top;\n",
       "    }\n",
       "\n",
       "    .dataframe thead th {\n",
       "        text-align: right;\n",
       "    }\n",
       "</style>\n",
       "<table border=\"1\" class=\"dataframe\">\n",
       "  <thead>\n",
       "    <tr style=\"text-align: right;\">\n",
       "      <th></th>\n",
       "      <th>Gender</th>\n",
       "      <th>Age</th>\n",
       "      <th>Height</th>\n",
       "      <th>Weight</th>\n",
       "      <th>family_history_with_overweight</th>\n",
       "      <th>FAVC</th>\n",
       "      <th>FCVC</th>\n",
       "      <th>NCP</th>\n",
       "      <th>CAEC</th>\n",
       "      <th>SMOKE</th>\n",
       "      <th>CH2O</th>\n",
       "      <th>SCC</th>\n",
       "      <th>FAF</th>\n",
       "      <th>TUE</th>\n",
       "      <th>CALC</th>\n",
       "      <th>MTRANS</th>\n",
       "      <th>NObeyesdad</th>\n",
       "    </tr>\n",
       "  </thead>\n",
       "  <tbody>\n",
       "    <tr>\n",
       "      <th>1</th>\n",
       "      <td>Female</td>\n",
       "      <td>21</td>\n",
       "      <td>1.52</td>\n",
       "      <td>56.0</td>\n",
       "      <td>yes</td>\n",
       "      <td>no</td>\n",
       "      <td>3</td>\n",
       "      <td>3</td>\n",
       "      <td>Sometimes</td>\n",
       "      <td>yes</td>\n",
       "      <td>3</td>\n",
       "      <td>yes</td>\n",
       "      <td>3</td>\n",
       "      <td>0</td>\n",
       "      <td>Sometimes</td>\n",
       "      <td>Public_Transportation</td>\n",
       "      <td>Normal_Weight</td>\n",
       "    </tr>\n",
       "    <tr>\n",
       "      <th>2</th>\n",
       "      <td>Male</td>\n",
       "      <td>23</td>\n",
       "      <td>1.80</td>\n",
       "      <td>77.0</td>\n",
       "      <td>yes</td>\n",
       "      <td>no</td>\n",
       "      <td>2</td>\n",
       "      <td>3</td>\n",
       "      <td>Sometimes</td>\n",
       "      <td>no</td>\n",
       "      <td>2</td>\n",
       "      <td>no</td>\n",
       "      <td>2</td>\n",
       "      <td>1</td>\n",
       "      <td>Frequently</td>\n",
       "      <td>Public_Transportation</td>\n",
       "      <td>Normal_Weight</td>\n",
       "    </tr>\n",
       "    <tr>\n",
       "      <th>3</th>\n",
       "      <td>Male</td>\n",
       "      <td>27</td>\n",
       "      <td>1.80</td>\n",
       "      <td>87.0</td>\n",
       "      <td>no</td>\n",
       "      <td>no</td>\n",
       "      <td>3</td>\n",
       "      <td>3</td>\n",
       "      <td>Sometimes</td>\n",
       "      <td>no</td>\n",
       "      <td>2</td>\n",
       "      <td>no</td>\n",
       "      <td>2</td>\n",
       "      <td>0</td>\n",
       "      <td>Frequently</td>\n",
       "      <td>Walking</td>\n",
       "      <td>Overweight_Level_I</td>\n",
       "    </tr>\n",
       "    <tr>\n",
       "      <th>4</th>\n",
       "      <td>Male</td>\n",
       "      <td>22</td>\n",
       "      <td>1.78</td>\n",
       "      <td>89.8</td>\n",
       "      <td>no</td>\n",
       "      <td>no</td>\n",
       "      <td>2</td>\n",
       "      <td>1</td>\n",
       "      <td>Sometimes</td>\n",
       "      <td>no</td>\n",
       "      <td>2</td>\n",
       "      <td>no</td>\n",
       "      <td>0</td>\n",
       "      <td>0</td>\n",
       "      <td>Sometimes</td>\n",
       "      <td>Public_Transportation</td>\n",
       "      <td>Overweight_Level_II</td>\n",
       "    </tr>\n",
       "    <tr>\n",
       "      <th>5</th>\n",
       "      <td>Male</td>\n",
       "      <td>29</td>\n",
       "      <td>1.62</td>\n",
       "      <td>53.0</td>\n",
       "      <td>no</td>\n",
       "      <td>yes</td>\n",
       "      <td>2</td>\n",
       "      <td>3</td>\n",
       "      <td>Sometimes</td>\n",
       "      <td>no</td>\n",
       "      <td>2</td>\n",
       "      <td>no</td>\n",
       "      <td>0</td>\n",
       "      <td>0</td>\n",
       "      <td>Sometimes</td>\n",
       "      <td>Automobile</td>\n",
       "      <td>Normal_Weight</td>\n",
       "    </tr>\n",
       "  </tbody>\n",
       "</table>\n",
       "</div>"
      ],
      "text/plain": [
       "   Gender  Age  Height  Weight family_history_with_overweight FAVC FCVC NCP  \\\n",
       "1  Female   21    1.52    56.0                            yes   no    3   3   \n",
       "2    Male   23    1.80    77.0                            yes   no    2   3   \n",
       "3    Male   27    1.80    87.0                             no   no    3   3   \n",
       "4    Male   22    1.78    89.8                             no   no    2   1   \n",
       "5    Male   29    1.62    53.0                             no  yes    2   3   \n",
       "\n",
       "        CAEC SMOKE CH2O  SCC FAF TUE        CALC                 MTRANS  \\\n",
       "1  Sometimes   yes    3  yes   3   0   Sometimes  Public_Transportation   \n",
       "2  Sometimes    no    2   no   2   1  Frequently  Public_Transportation   \n",
       "3  Sometimes    no    2   no   2   0  Frequently                Walking   \n",
       "4  Sometimes    no    2   no   0   0   Sometimes  Public_Transportation   \n",
       "5  Sometimes    no    2   no   0   0   Sometimes             Automobile   \n",
       "\n",
       "            NObeyesdad  \n",
       "1        Normal_Weight  \n",
       "2        Normal_Weight  \n",
       "3   Overweight_Level_I  \n",
       "4  Overweight_Level_II  \n",
       "5        Normal_Weight  "
      ]
     },
     "execution_count": 17,
     "metadata": {},
     "output_type": "execute_result"
    }
   ],
   "source": [
    "df.head()"
   ]
  },
  {
   "attachments": {},
   "cell_type": "markdown",
   "metadata": {},
   "source": [
    "The dataset required minimal cleaning. I converted all numerical values except age, weight and height to categorical, as the dataset was based on a survey. All features except weight and height were selected to be used in the models. After applying one-hot encoding to 13 categorical features I got 40 binary features. The age column was normalized (converted to values from 0 to 1). Finally, I split data into train and test portion, where 80% were for training and validation and 20% - for hold-out test set."
   ]
  },
  {
   "cell_type": "markdown",
   "metadata": {
    "id": "J0wznOlCoxwW"
   },
   "source": [
    "## Model and Evaluation"
   ]
  },
  {
   "cell_type": "code",
   "execution_count": 18,
   "metadata": {
    "id": "5dhulzZ7pp27"
   },
   "outputs": [],
   "source": [
    "# Setting prediction target\n",
    "y = df.NObeyesdad\n",
    "# Encoding Labels\n",
    "labelencoder = LabelEncoder()\n",
    "y = labelencoder.fit_transform(df['NObeyesdad'])\n",
    "# Choosing features\n",
    "# We use all features except height and weight\n",
    "features = ['Gender', 'Age', 'family_history_with_overweight',\n",
    "           'FAVC', 'FCVC', 'NCP', 'CAEC', 'SMOKE', 'CH2O', 'SCC', 'FAF', 'TUE',\n",
    "           'CALC', 'MTRANS']\n",
    "# Encoding features\n",
    "x = pd.get_dummies(df[features])\n",
    "# Splitting dataset into train and test data\n",
    "x_train, x_test, y_train, y_test = train_test_split(x,y,test_size= 0.2, random_state = 1)\n",
    "\n",
    "# Scaling: applying MinMaxScaler to Age column\n",
    "scaler = MinMaxScaler(feature_range = (0,1))\n",
    "\n",
    "scaler.fit(x_train)\n",
    "x_train = scaler.transform(x_train)\n",
    "x_test = scaler.transform(x_test)"
   ]
  },
  {
   "cell_type": "code",
   "execution_count": null,
   "metadata": {
    "colab": {
     "base_uri": "https://localhost:8080/",
     "height": 833
    },
    "id": "X2ayX3tNc-2S",
    "outputId": "29e00667-b61f-4fbe-d222-99248da16158"
   },
   "outputs": [
    {
     "name": "stdout",
     "output_type": "stream",
     "text": [
      "<class 'pandas.core.frame.DataFrame'>\n",
      "Int64Index: 2111 entries, 1 to 2111\n",
      "Data columns (total 41 columns):\n",
      " #   Column                              Non-Null Count  Dtype\n",
      "---  ------                              --------------  -----\n",
      " 0   Age                                 2111 non-null   int64\n",
      " 1   Gender_Female                       2111 non-null   uint8\n",
      " 2   Gender_Male                         2111 non-null   uint8\n",
      " 3   family_history_with_overweight_no   2111 non-null   uint8\n",
      " 4   family_history_with_overweight_yes  2111 non-null   uint8\n",
      " 5   FAVC_no                             2111 non-null   uint8\n",
      " 6   FAVC_yes                            2111 non-null   uint8\n",
      " 7   FCVC_1                              2111 non-null   uint8\n",
      " 8   FCVC_2                              2111 non-null   uint8\n",
      " 9   FCVC_3                              2111 non-null   uint8\n",
      " 10  NCP_1                               2111 non-null   uint8\n",
      " 11  NCP_2                               2111 non-null   uint8\n",
      " 12  NCP_3                               2111 non-null   uint8\n",
      " 13  NCP_4                               2111 non-null   uint8\n",
      " 14  CAEC_Always                         2111 non-null   uint8\n",
      " 15  CAEC_Frequently                     2111 non-null   uint8\n",
      " 16  CAEC_Sometimes                      2111 non-null   uint8\n",
      " 17  CAEC_no                             2111 non-null   uint8\n",
      " 18  SMOKE_no                            2111 non-null   uint8\n",
      " 19  SMOKE_yes                           2111 non-null   uint8\n",
      " 20  CH2O_1                              2111 non-null   uint8\n",
      " 21  CH2O_2                              2111 non-null   uint8\n",
      " 22  CH2O_3                              2111 non-null   uint8\n",
      " 23  SCC_no                              2111 non-null   uint8\n",
      " 24  SCC_yes                             2111 non-null   uint8\n",
      " 25  FAF_0                               2111 non-null   uint8\n",
      " 26  FAF_1                               2111 non-null   uint8\n",
      " 27  FAF_2                               2111 non-null   uint8\n",
      " 28  FAF_3                               2111 non-null   uint8\n",
      " 29  TUE_0                               2111 non-null   uint8\n",
      " 30  TUE_1                               2111 non-null   uint8\n",
      " 31  TUE_2                               2111 non-null   uint8\n",
      " 32  CALC_Always                         2111 non-null   uint8\n",
      " 33  CALC_Frequently                     2111 non-null   uint8\n",
      " 34  CALC_Sometimes                      2111 non-null   uint8\n",
      " 35  CALC_no                             2111 non-null   uint8\n",
      " 36  MTRANS_Automobile                   2111 non-null   uint8\n",
      " 37  MTRANS_Bike                         2111 non-null   uint8\n",
      " 38  MTRANS_Motorbike                    2111 non-null   uint8\n",
      " 39  MTRANS_Public_Transportation        2111 non-null   uint8\n",
      " 40  MTRANS_Walking                      2111 non-null   uint8\n",
      "dtypes: int64(1), uint8(40)\n",
      "memory usage: 195.4 KB\n"
     ]
    }
   ],
   "source": [
    "x.info()"
   ]
  },
  {
   "cell_type": "markdown",
   "metadata": {},
   "source": [
    "I tried three different models on the dataset: Decision Tree, Logistic Regression and Random Forest. For every model I selected hyperparameters using grid search for improving results. I found the best hyperparameter values using cross validation and used them for training the model on the entire training dataset. Finally, models were tested on the hold-out test set."
   ]
  },
  {
   "cell_type": "markdown",
   "metadata": {
    "id": "0_jHaf2celfT"
   },
   "source": [
    "### Decision tree"
   ]
  },
  {
   "cell_type": "markdown",
   "metadata": {
    "id": "0jtU5gDxxz9e"
   },
   "source": [
    "Use cross validation to find best hyperparameters for a decision tree:"
   ]
  },
  {
   "cell_type": "code",
   "execution_count": 19,
   "metadata": {
    "id": "B3cRrpZr1-h4"
   },
   "outputs": [],
   "source": [
    "def get_score(max_leaf_nodes, max_depth, x_train, y_train):\n",
    "    model = DecisionTreeClassifier(max_leaf_nodes=max_leaf_nodes, \n",
    "                                   max_depth=max_depth, random_state = 0)\n",
    "    scores = cross_val_score(model, x_train, y_train, cv=5)\n",
    "    avg_score = mean(scores)\n",
    "    return avg_score"
   ]
  },
  {
   "cell_type": "code",
   "execution_count": 20,
   "metadata": {
    "colab": {
     "base_uri": "https://localhost:8080/",
     "height": 136
    },
    "id": "iKFI4hVZ2Rlu",
    "outputId": "00f27b92-d9a2-47d0-d82b-4f92dc5ad9f0"
   },
   "outputs": [
    {
     "name": "stdout",
     "output_type": "stream",
     "text": [
      "Finished max_depth = 2\n",
      "Finished max_depth = 5\n",
      "Finished max_depth = 10\n",
      "Finished max_depth = 20\n",
      "Finished max_depth = 50\n",
      "Finished max_depth = 100\n",
      "Best accuracy is 0.7470194721963724 for max_leaf_nodes = 300, max_depth = 20\n"
     ]
    }
   ],
   "source": [
    "# Compare Accuracy score with different values of max_depth, max_leaf_nodes\n",
    "all_max_leaf_node_vals = list(range(2, 20)) + list(range(25, 100, 5)) \\\n",
    "                         + list(range(150, 1000, 50)) + list(range(1000, 10000, 100))\n",
    "all_max_depth_vals = [2, 5, 10, 20, 50, 100]\n",
    "\n",
    "all_scores_and_params = []\n",
    "\n",
    "for max_depth in all_max_depth_vals:\n",
    "  for max_leaf_nodes in all_max_leaf_node_vals:\n",
    "    score = get_score(max_leaf_nodes, max_depth, x_train, y_train)\n",
    "    all_scores_and_params.append((score, max_leaf_nodes, max_depth))\n",
    "\n",
    "  print(f'Finished max_depth = {max_depth}')\n",
    "\n",
    "all_scores = [s[0] for s in all_scores_and_params]\n",
    "best_score = max(all_scores)\n",
    "best_score_index = all_scores.index(best_score)\n",
    "best_params = all_scores_and_params[best_score_index]\n",
    "\n",
    "print(f'Best accuracy is {best_score} for max_leaf_nodes = {best_params[1]}, max_depth = {best_params[2]}')\n"
   ]
  },
  {
   "cell_type": "markdown",
   "metadata": {
    "id": "Be1C0fjeQiX2"
   },
   "source": [
    "Use the best hyperparameters to train a new decision tree on the whole training data:"
   ]
  },
  {
   "cell_type": "code",
   "execution_count": 21,
   "metadata": {
    "colab": {
     "base_uri": "https://localhost:8080/",
     "height": 119
    },
    "id": "mtFNsOxq3tPk",
    "outputId": "aff627b8-7973-48f6-bad2-744136731274"
   },
   "outputs": [
    {
     "data": {
      "text/plain": [
       "DecisionTreeClassifier(max_depth=20, max_leaf_nodes=400, random_state=1)"
      ]
     },
     "execution_count": 21,
     "metadata": {},
     "output_type": "execute_result"
    }
   ],
   "source": [
    "# Fit model using best tree size\n",
    "dec_tree_model = DecisionTreeClassifier(max_leaf_nodes = 400, max_depth = 20, random_state = 1)\n",
    "dec_tree_model.fit(x_train,y_train)"
   ]
  },
  {
   "cell_type": "code",
   "execution_count": 22,
   "metadata": {
    "colab": {
     "base_uri": "https://localhost:8080/",
     "height": 34
    },
    "id": "8BAYxcOt6VQ6",
    "outputId": "0b57b918-2f1a-4a87-ee6b-a30e54ab0aec"
   },
   "outputs": [
    {
     "data": {
      "text/plain": [
       "0.7748815165876777"
      ]
     },
     "execution_count": 22,
     "metadata": {},
     "output_type": "execute_result"
    }
   ],
   "source": [
    "# Accuracy Score\n",
    "dec_tree_model.score(x_test, y_test)"
   ]
  },
  {
   "cell_type": "code",
   "execution_count": 23,
   "metadata": {
    "colab": {
     "base_uri": "https://localhost:8080/",
     "height": 255
    },
    "id": "ZvKGu9vO6k_9",
    "outputId": "67c20ecc-33fc-4ea3-e6f7-0f73a49efaaf"
   },
   "outputs": [
    {
     "name": "stdout",
     "output_type": "stream",
     "text": [
      "                     precision    recall  f1-score   support\n",
      "\n",
      "Insufficient_Weight       0.83      0.74      0.78        68\n",
      "      Normal_Weight       0.51      0.54      0.53        48\n",
      "     Obesity_Type_I       0.73      0.77      0.75        66\n",
      "    Obesity_Type_II       0.81      0.85      0.83        60\n",
      "   Obesity_Type_III       1.00      1.00      1.00        64\n",
      " Overweight_Level_I       0.74      0.79      0.77        58\n",
      "Overweight_Level_II       0.75      0.67      0.71        58\n",
      "\n",
      "           accuracy                           0.77       422\n",
      "          macro avg       0.77      0.77      0.77       422\n",
      "       weighted avg       0.78      0.77      0.78       422\n",
      "\n"
     ]
    }
   ],
   "source": [
    "print(classification_report(y_test, dec_tree_model.predict(x_test), target_names = labelencoder.classes_))"
   ]
  },
  {
   "cell_type": "markdown",
   "metadata": {},
   "source": [
    "I chose to tune hyperparameters Max_leaf_nodes and Max_depth. Max_depth is the maximum depth of the tree, while max_leaf_nodes is the number of leaves in the tree. I got the best max_depth value 20 and max_leaf_nodes 400. The less these values are the better is generalization of the model, both parameters can be used to avoid overfitting."
   ]
  },
  {
   "cell_type": "code",
   "execution_count": 24,
   "metadata": {
    "colab": {
     "base_uri": "https://localhost:8080/",
     "height": 439
    },
    "id": "RXEEbdRa9z4Q",
    "outputId": "ae432f29-dd09-4e57-acd6-25cafc40eaef",
    "scrolled": true
   },
   "outputs": [
    {
     "data": {
      "image/png": "[encoded data removed]",
      "text/plain": [
       "<Figure size 360x360 with 2 Axes>"
      ]
     },
     "metadata": {
      "needs_background": "light"
     },
     "output_type": "display_data"
    }
   ],
   "source": [
    "# Confusion Matrix\n",
    "cm = confusion_matrix(y_test, dec_tree_model.predict(x_test))\n",
    "fig, ax = plt.subplots(figsize = (5,5))\n",
    "sns.heatmap(cm, annot = True, fmt ='d',cmap=\"YlGnBu\", xticklabels = labelencoder.classes_,\n",
    "            yticklabels = labelencoder.classes_)\n",
    "plt.ylabel('ACTUAL')\n",
    "plt.xlabel('PREDICTED')\n",
    "ax.set_title('ACTUAL CATEGORY VS PREDICTED CATEGORY')\n",
    "plt.show()"
   ]
  },
  {
   "attachments": {},
   "cell_type": "markdown",
   "metadata": {},
   "source": [
    "Decision tree performed on the dataset with accuracy 75%. The best precision and recall were on categories Obesity type 2 and 3, while normal weight was the most difficult to predict. These results can be visually seen on the confusion matrix. It shows how many instances of each class were predicted to belong to another class. The best result is for class Obesity Type 3 where only 1 instance was predicted incorrectly."
   ]
  },
  {
   "cell_type": "markdown",
   "metadata": {
    "id": "JA8Dd_Rx_jPZ"
   },
   "source": [
    "### Logistic Regression"
   ]
  },
  {
   "cell_type": "code",
   "execution_count": 27,
   "metadata": {
    "colab": {
     "base_uri": "https://localhost:8080/",
     "height": 1000
    },
    "id": "Zv3j5YTQhrsY",
    "outputId": "933feeb6-4fc6-4c67-cd61-c550f3b2d7db"
   },
   "outputs": [
    {
     "data": {
      "text/plain": [
       "GridSearchCV(cv=5, estimator=LogisticRegression(max_iter=1000, penalty='none'),\n",
       "             param_grid=[{'solver': ['lbfgs', 'sag', 'newton-cg']}],\n",
       "             scoring='accuracy')"
      ]
     },
     "execution_count": 27,
     "metadata": {},
     "output_type": "execute_result"
    }
   ],
   "source": [
    "from sklearn.model_selection import GridSearchCV\n",
    "\n",
    "param_grid = [{'solver': ['lbfgs', 'sag', 'newton-cg'],}]\n",
    "# With grid search we tried to increase C and found out that less regulatization improves accuracy\n",
    "# Therefore, we are using penalty='none'\n",
    "grid_search_lr = GridSearchCV(LogisticRegression(max_iter=1000, penalty='none'), param_grid, cv=5, scoring='accuracy')\n",
    "grid_search_lr.fit(x_train, y_train)"
   ]
  },
  {
   "cell_type": "code",
   "execution_count": 28,
   "metadata": {
    "colab": {
     "base_uri": "https://localhost:8080/",
     "height": 51
    },
    "id": "AHJGysjljiEB",
    "outputId": "c36dedd1-9be8-4f26-9fa8-8dc120083413"
   },
   "outputs": [
    {
     "name": "stdout",
     "output_type": "stream",
     "text": [
      "{'solver': 'newton-cg'}\n",
      "0.6083999086966446\n"
     ]
    }
   ],
   "source": [
    "print(grid_search_lr.best_params_)\n",
    "print(grid_search_lr.best_score_)"
   ]
  },
  {
   "cell_type": "code",
   "execution_count": 30,
   "metadata": {
    "colab": {
     "base_uri": "https://localhost:8080/",
     "height": 156
    },
    "id": "A_XPxa17_pgv",
    "outputId": "c132e91f-3c0f-4b41-f093-6e85c49b7504"
   },
   "outputs": [
    {
     "data": {
      "text/plain": [
       "LogisticRegression(max_iter=1000, penalty='none', solver='sag')"
      ]
     },
     "execution_count": 30,
     "metadata": {},
     "output_type": "execute_result"
    }
   ],
   "source": [
    "# Creating Logistic Regression Model\n",
    "log_reg_model = LogisticRegression(max_iter=1000,penalty='none',solver='sag')\n",
    "log_reg_model.fit(x_train, y_train)"
   ]
  },
  {
   "cell_type": "code",
   "execution_count": 31,
   "metadata": {
    "colab": {
     "base_uri": "https://localhost:8080/",
     "height": 181
    },
    "id": "DHC4HaG5COo2",
    "outputId": "0615547f-8fe2-4816-d2ea-1b27daf5d919"
   },
   "outputs": [
    {
     "data": {
      "text/plain": [
       "0.6208530805687204"
      ]
     },
     "execution_count": 31,
     "metadata": {},
     "output_type": "execute_result"
    }
   ],
   "source": [
    "# Accuracy Score\n",
    "log_reg_model.score(x_test, y_test)"
   ]
  },
  {
   "cell_type": "code",
   "execution_count": 32,
   "metadata": {},
   "outputs": [
    {
     "data": {
      "text/plain": [
       "array([0.63313609, 0.61538462, 0.59467456, 0.59050445, 0.60534125])"
      ]
     },
     "execution_count": 32,
     "metadata": {},
     "output_type": "execute_result"
    }
   ],
   "source": [
    "# Cross validation\n",
    "scores = cross_val_score(log_reg_model, x_train, y_train, cv=5)\n",
    "scores"
   ]
  },
  {
   "cell_type": "code",
   "execution_count": 33,
   "metadata": {
    "colab": {
     "base_uri": "https://localhost:8080/",
     "height": 255
    },
    "id": "rer231fDHpp9",
    "outputId": "427a2c74-1a07-4e29-b66f-bc24955474b5"
   },
   "outputs": [
    {
     "name": "stdout",
     "output_type": "stream",
     "text": [
      "                     precision    recall  f1-score   support\n",
      "\n",
      "Insufficient_Weight       0.81      0.68      0.74        68\n",
      "      Normal_Weight       0.48      0.54      0.51        48\n",
      "     Obesity_Type_I       0.47      0.53      0.50        66\n",
      "    Obesity_Type_II       0.56      0.90      0.69        60\n",
      "   Obesity_Type_III       0.98      0.98      0.98        64\n",
      " Overweight_Level_I       0.53      0.55      0.54        58\n",
      "Overweight_Level_II       0.35      0.10      0.16        58\n",
      "\n",
      "           accuracy                           0.62       422\n",
      "          macro avg       0.60      0.61      0.59       422\n",
      "       weighted avg       0.61      0.62      0.60       422\n",
      "\n"
     ]
    }
   ],
   "source": [
    "print(classification_report(y_test, log_reg_model.predict(x_test), target_names = labelencoder.classes_))"
   ]
  },
  {
   "attachments": {},
   "cell_type": "markdown",
   "metadata": {},
   "source": [
    "For logistic regression I chose to tune hyperparameter C. This is an inverse regularization parameter. I figured out that with increasing C I am improving the accuracy of the model on a validation set. Therefore, I decided to use parameter penalty=none so no regularization is applied."
   ]
  },
  {
   "cell_type": "code",
   "execution_count": 34,
   "metadata": {
    "colab": {
     "base_uri": "https://localhost:8080/",
     "height": 439
    },
    "id": "xJ2dYBYxHp0x",
    "outputId": "c8716ce8-caa6-48ab-c6e1-e0ced18fa4ee"
   },
   "outputs": [
    {
     "data": {
      "image/png": "[encoded data removed]",
      "text/plain": [
       "<Figure size 360x360 with 2 Axes>"
      ]
     },
     "metadata": {
      "needs_background": "light"
     },
     "output_type": "display_data"
    }
   ],
   "source": [
    "# Confusion Matrix\n",
    "cm = confusion_matrix(y_test, log_reg_model.predict(x_test))\n",
    "fig, ax = plt.subplots(figsize = (5,5))\n",
    "sns.heatmap(cm, annot = True, fmt ='d',cmap=\"YlGnBu\", xticklabels = labelencoder.classes_,\n",
    "            yticklabels = labelencoder.classes_)\n",
    "plt.ylabel('ACTUAL')\n",
    "plt.xlabel('PREDICTED')\n",
    "ax.set_title('ACTUAL CATEGORY VS PREDICTED CATEGORY')\n",
    "plt.show()"
   ]
  },
  {
   "attachments": {},
   "cell_type": "markdown",
   "metadata": {},
   "source": [
    "Logistic Regression performed on the dataset with lower accuracy of 57%. In the confusion matrix I can see that it did a lot of false predictions on classes Overweight Level 1, 2 and Normal Weight. Class Obesity type 3 was still the easiest to predict."
   ]
  },
  {
   "cell_type": "markdown",
   "metadata": {
    "id": "sat0jFdqJfuT"
   },
   "source": [
    "### Random Forest"
   ]
  },
  {
   "cell_type": "code",
   "execution_count": 35,
   "metadata": {
    "colab": {
     "base_uri": "https://localhost:8080/",
     "height": 357
    },
    "id": "ECA72R24ym3U",
    "outputId": "88280186-d01f-4ce9-f7c2-7bf4f2691719"
   },
   "outputs": [
    {
     "data": {
      "text/plain": [
       "GridSearchCV(cv=5, estimator=RandomForestClassifier(random_state=1),\n",
       "             param_grid=[{'max_depth': [20, 30, 40], 'max_features': [3, 4, 5],\n",
       "                          'n_estimators': [500, 1000, 1500]}],\n",
       "             scoring='accuracy')"
      ]
     },
     "execution_count": 35,
     "metadata": {},
     "output_type": "execute_result"
    }
   ],
   "source": [
    "param_grid = [{'n_estimators':[500,1000,1500],\n",
    "               'max_depth': [20,30, 40],\n",
    "               'max_features': [3,4,5]}]\n",
    "grid_search_rf = GridSearchCV(RandomForestClassifier(random_state = 1), param_grid, cv=5, scoring='accuracy')\n",
    "grid_search_rf.fit(x_train, y_train)"
   ]
  },
  {
   "cell_type": "code",
   "execution_count": null,
   "metadata": {
    "colab": {
     "base_uri": "https://localhost:8080/",
     "height": 51
    },
    "id": "Lf8TezFu01bi",
    "outputId": "b04dfbfa-7a01-4ab0-dd33-717daa69939e"
   },
   "outputs": [
    {
     "name": "stdout",
     "output_type": "stream",
     "text": [
      "{'max_depth': 30, 'max_features': 4, 'n_estimators': 1000}\n",
      "0.8044931785858515\n"
     ]
    }
   ],
   "source": [
    "print(grid_search_rf.best_params_)\n",
    "print(grid_search_rf.best_score_)"
   ]
  },
  {
   "cell_type": "code",
   "execution_count": null,
   "metadata": {
    "colab": {
     "base_uri": "https://localhost:8080/",
     "height": 34
    },
    "id": "8L0lLWkFvlRA",
    "outputId": "d6e2d51f-542d-411d-a9dd-01caea527abc"
   },
   "outputs": [
    {
     "data": {
      "text/plain": [
       "array([0.78994083, 0.82248521, 0.81656805, 0.80118694, 0.79228487])"
      ]
     },
     "execution_count": 180,
     "metadata": {
      "tags": []
     },
     "output_type": "execute_result"
    }
   ],
   "source": [
    "# Cross validation\n",
    "scores = cross_val_score(ran_for_model, x_train, y_train, cv=5)\n",
    "scores"
   ]
  },
  {
   "cell_type": "code",
   "execution_count": null,
   "metadata": {
    "colab": {
     "base_uri": "https://localhost:8080/",
     "height": 153
    },
    "id": "aKZV3zQlJkAo",
    "outputId": "a76eff83-5c97-4141-929c-79feeeff3bcb"
   },
   "outputs": [
    {
     "data": {
      "text/plain": [
       "RandomForestClassifier(bootstrap=True, ccp_alpha=0.0, class_weight=None,\n",
       "                       criterion='gini', max_depth=30, max_features=4,\n",
       "                       max_leaf_nodes=None, max_samples=None,\n",
       "                       min_impurity_decrease=0.0, min_impurity_split=None,\n",
       "                       min_samples_leaf=1, min_samples_split=2,\n",
       "                       min_weight_fraction_leaf=0.0, n_estimators=1000,\n",
       "                       n_jobs=None, oob_score=False, random_state=1, verbose=0,\n",
       "                       warm_start=False)"
      ]
     },
     "execution_count": 179,
     "metadata": {
      "tags": []
     },
     "output_type": "execute_result"
    }
   ],
   "source": [
    "ran_for_model = RandomForestClassifier(n_estimators = 1000,max_depth = 30,max_features = 4, random_state = 1)\n",
    "ran_for_model.fit(x_train, y_train)"
   ]
  },
  {
   "cell_type": "code",
   "execution_count": null,
   "metadata": {
    "colab": {
     "base_uri": "https://localhost:8080/",
     "height": 34
    },
    "id": "cgtpfjDDK17D",
    "outputId": "1ecc256f-ea41-49e1-96b0-e865a155fd13"
   },
   "outputs": [
    {
     "data": {
      "text/plain": [
       "0.8108747044917257"
      ]
     },
     "execution_count": 181,
     "metadata": {
      "tags": []
     },
     "output_type": "execute_result"
    }
   ],
   "source": [
    "# Accuracy Score\n",
    "ran_for_model.score(x_test, y_test)"
   ]
  },
  {
   "cell_type": "code",
   "execution_count": null,
   "metadata": {
    "colab": {
     "base_uri": "https://localhost:8080/",
     "height": 255
    },
    "id": "JpWkBDnPLRlT",
    "outputId": "58914336-36d2-44b0-845d-754fa4d2e659"
   },
   "outputs": [
    {
     "name": "stdout",
     "output_type": "stream",
     "text": [
      "                     precision    recall  f1-score   support\n",
      "\n",
      "Insufficient_Weight       0.85      0.85      0.85        61\n",
      "      Normal_Weight       0.58      0.67      0.62        45\n",
      "     Obesity_Type_I       0.77      0.78      0.77        79\n",
      "    Obesity_Type_II       0.92      0.89      0.91        54\n",
      "   Obesity_Type_III       0.98      0.98      0.98        63\n",
      " Overweight_Level_I       0.72      0.62      0.67        61\n",
      "Overweight_Level_II       0.84      0.85      0.84        60\n",
      "\n",
      "           accuracy                           0.81       423\n",
      "          macro avg       0.81      0.81      0.81       423\n",
      "       weighted avg       0.81      0.81      0.81       423\n",
      "\n"
     ]
    }
   ],
   "source": [
    "print(classification_report(y_test, ran_for_model.predict(x_test), target_names = labelencoder.classes_))"
   ]
  },
  {
   "attachments": {},
   "cell_type": "markdown",
   "metadata": {},
   "source": [
    "For random forest I tuned Max_depth, Max_features and N_estimators (number of estimators). Number of estimators is the number of trees in the forest, higher values usually improve learning of data, and the model training was fast even with 1000 estimators. Max_features is the number of features to consider when looking for the best spit, in my case the best number of features is 4. Max_features can be used to control overfitting."
   ]
  },
  {
   "cell_type": "code",
   "execution_count": null,
   "metadata": {
    "colab": {
     "base_uri": "https://localhost:8080/",
     "height": 439
    },
    "id": "7ZJv6hVkLRoC",
    "outputId": "7f82cc80-57a0-434d-b633-0a57aa013374"
   },
   "outputs": [
    {
     "data": {
      "image/png": "[encoded data removed]",
      "text/plain": [
       "<Figure size 360x360 with 2 Axes>"
      ]
     },
     "metadata": {
      "needs_background": "light",
      "tags": []
     },
     "output_type": "display_data"
    }
   ],
   "source": [
    "# Confusion Matrix\n",
    "cm = confusion_matrix(y_test, ran_for_model.predict(x_test))\n",
    "fig, ax = plt.subplots(figsize = (5,5))\n",
    "sns.heatmap(cm, annot = True, fmt ='d',cmap=\"YlGnBu\", xticklabels = labelencoder.classes_,\n",
    "            yticklabels = labelencoder.classes_)\n",
    "plt.ylabel('ACTUAL')\n",
    "plt.xlabel('PREDICTED')\n",
    "ax.set_title('ACTUAL CATEGORY VS PREDICTED CATEGORY')\n",
    "plt.show()"
   ]
  },
  {
   "attachments": {},
   "cell_type": "markdown",
   "metadata": {},
   "source": [
    "Random forest performs the best on the data with accuracy score 81%. Similar to a decision tree the highest precision and recall can be seen for classes Obesity type 2 and 3. On the confusion matrix it can be seen that normal weight is still the hardest to predict."
   ]
  },
  {
   "cell_type": "markdown",
   "metadata": {
    "id": "M0CIYz7rO-0f"
   },
   "source": [
    "### Voting Classifier"
   ]
  },
  {
   "cell_type": "code",
   "execution_count": null,
   "metadata": {
    "id": "BPyhkixBO9zr"
   },
   "outputs": [],
   "source": [
    "from sklearn.svm import SVC\n",
    "\n",
    "svc = SVC()\n",
    "dt = DecisionTreeClassifier()\n",
    "rf = RandomForestClassifier()\n",
    "\n",
    "classifiers = [('svc',svc),('rf',rf, ),('dt',dt)]\n",
    "vot = VotingClassifier(estimators = classifiers, voting ='hard')\n",
    "\n"
   ]
  },
  {
   "cell_type": "code",
   "execution_count": null,
   "metadata": {
    "colab": {
     "base_uri": "https://localhost:8080/",
     "height": 34
    },
    "id": "G5AHf0T7REJ-",
    "outputId": "0595f720-fa64-4744-ab59-97558f6a4840"
   },
   "outputs": [
    {
     "data": {
      "text/plain": [
       "array([0.79585799, 0.84319527, 0.79585799, 0.79228487, 0.77448071])"
      ]
     },
     "execution_count": 159,
     "metadata": {
      "tags": []
     },
     "output_type": "execute_result"
    }
   ],
   "source": [
    "vot.fit(x_train, y_train)\n",
    "# Cross validation\n",
    "scores = cross_val_score(vot, x_train, y_train, cv=5)\n",
    "scores"
   ]
  },
  {
   "cell_type": "code",
   "execution_count": null,
   "metadata": {
    "colab": {
     "base_uri": "https://localhost:8080/",
     "height": 85
    },
    "id": "WCtn1qZpwGJK",
    "outputId": "4476d65e-6b77-4042-c5c0-c7f858870e9a"
   },
   "outputs": [
    {
     "name": "stdout",
     "output_type": "stream",
     "text": [
      "SVC 0.6997635933806147\n",
      "RandomForestClassifier 0.8037825059101655\n",
      "DecisionTreeClassifier 0.7754137115839244\n",
      "VotingClassifier 0.7919621749408984\n"
     ]
    }
   ],
   "source": [
    "from sklearn.metrics import accuracy_score\n",
    "#Accuracy score:\n",
    "for classifier in (svc, rf, dt, vot):\n",
    "  classifier.fit(x_train, y_train)\n",
    "  y_pred = classifier.predict(x_test)\n",
    "  print(classifier.__class__.__name__, accuracy_score(y_test, y_pred))"
   ]
  }
 ],
 "metadata": {
  "colab": {
   "collapsed_sections": [],
   "name": "Estimation of obesity levels based on eating habits and physical condition.ipynb",
   "provenance": [],
   "toc_visible": true
  },
  "kernelspec": {
   "display_name": "Python 3 (ipykernel)",
   "language": "python",
   "name": "python3"
  },
  "language_info": {
   "codemirror_mode": {
    "name": "ipython",
    "version": 3
   },
   "file_extension": ".py",
   "mimetype": "text/x-python",
   "name": "python",
   "nbconvert_exporter": "python",
   "pygments_lexer": "ipython3",
   "version": "3.7.11"
  }
 },
 "nbformat": 4,
 "nbformat_minor": 1
}
